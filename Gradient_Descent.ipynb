{
  "nbformat": 4,
  "nbformat_minor": 0,
  "metadata": {
    "colab": {
      "name": "Copy of Gradient Descent(Lab Work 9th Mar 21).ipynb",
      "provenance": []
    },
    "kernelspec": {
      "name": "python3",
      "display_name": "Python 3"
    }
  },
  "cells": [
    {
      "cell_type": "code",
      "metadata": {
        "id": "x3h_foWmWDvC"
      },
      "source": [
        "curr_x=5 \n",
        "lr= 0.1\n",
        "precision= 0.000001\n",
        "r_o_ch_x=1\n",
        "max_iteration= 1000\n",
        "iter=0\n",
        "\n"
      ],
      "execution_count": 4,
      "outputs": []
    },
    {
      "cell_type": "code",
      "metadata": {
        "id": "_w50xNI1XHrs"
      },
      "source": [
        "gradient= lambda x: 2*(x+5)"
      ],
      "execution_count": 5,
      "outputs": []
    },
    {
      "cell_type": "code",
      "metadata": {
        "colab": {
          "base_uri": "https://localhost:8080/"
        },
        "id": "npQcq-VDXYIi",
        "outputId": "dc37683f-24ab-43f0-eb5c-23fd7b9ef2fd"
      },
      "source": [
        "while r_o_ch_x >precision and iter< max_iteration:\n",
        "      prev_x=curr_x\n",
        "      curr_x = curr_x - lr* gradient(prev_x)\n",
        "      r_o_ch_x = abs(curr_x- prev_x)\n",
        "      iter =iter+1\n",
        "      print(\"Iteration \", iter , \" Value of X is \" , curr_x)\n",
        "\n",
        "print  (\" the global minima occurs at \" , curr_x)     \n"
      ],
      "execution_count": 3,
      "outputs": [
        {
          "output_type": "stream",
          "text": [
            "Iteration  1  Value of X is  3.0\n",
            "Iteration  2  Value of X is  1.4\n",
            "Iteration  3  Value of X is  0.11999999999999966\n",
            "Iteration  4  Value of X is  -0.9040000000000001\n",
            "Iteration  5  Value of X is  -1.7232000000000003\n",
            "Iteration  6  Value of X is  -2.3785600000000002\n",
            "Iteration  7  Value of X is  -2.902848\n",
            "Iteration  8  Value of X is  -3.3222784\n",
            "Iteration  9  Value of X is  -3.65782272\n",
            "Iteration  10  Value of X is  -3.926258176\n",
            "Iteration  11  Value of X is  -4.1410065408\n",
            "Iteration  12  Value of X is  -4.312805232640001\n",
            "Iteration  13  Value of X is  -4.450244186112\n",
            "Iteration  14  Value of X is  -4.5601953488896\n",
            "Iteration  15  Value of X is  -4.64815627911168\n",
            "Iteration  16  Value of X is  -4.718525023289343\n",
            "Iteration  17  Value of X is  -4.774820018631475\n",
            "Iteration  18  Value of X is  -4.81985601490518\n",
            "Iteration  19  Value of X is  -4.855884811924144\n",
            "Iteration  20  Value of X is  -4.884707849539315\n",
            "Iteration  21  Value of X is  -4.907766279631452\n",
            "Iteration  22  Value of X is  -4.926213023705161\n",
            "Iteration  23  Value of X is  -4.940970418964129\n",
            "Iteration  24  Value of X is  -4.952776335171303\n",
            "Iteration  25  Value of X is  -4.962221068137042\n",
            "Iteration  26  Value of X is  -4.969776854509634\n",
            "Iteration  27  Value of X is  -4.9758214836077075\n",
            "Iteration  28  Value of X is  -4.980657186886166\n",
            "Iteration  29  Value of X is  -4.984525749508933\n",
            "Iteration  30  Value of X is  -4.987620599607146\n",
            "Iteration  31  Value of X is  -4.990096479685716\n",
            "Iteration  32  Value of X is  -4.992077183748573\n",
            "Iteration  33  Value of X is  -4.993661746998859\n",
            "Iteration  34  Value of X is  -4.994929397599087\n",
            "Iteration  35  Value of X is  -4.99594351807927\n",
            "Iteration  36  Value of X is  -4.996754814463416\n",
            "Iteration  37  Value of X is  -4.997403851570732\n",
            "Iteration  38  Value of X is  -4.997923081256586\n",
            "Iteration  39  Value of X is  -4.9983384650052685\n",
            "Iteration  40  Value of X is  -4.998670772004215\n",
            "Iteration  41  Value of X is  -4.998936617603372\n",
            "Iteration  42  Value of X is  -4.999149294082697\n",
            "Iteration  43  Value of X is  -4.999319435266157\n",
            "Iteration  44  Value of X is  -4.999455548212926\n",
            "Iteration  45  Value of X is  -4.99956443857034\n",
            "Iteration  46  Value of X is  -4.999651550856273\n",
            "Iteration  47  Value of X is  -4.999721240685018\n",
            "Iteration  48  Value of X is  -4.999776992548014\n",
            "Iteration  49  Value of X is  -4.999821594038411\n",
            "Iteration  50  Value of X is  -4.999857275230729\n",
            "Iteration  51  Value of X is  -4.999885820184583\n",
            "Iteration  52  Value of X is  -4.999908656147666\n",
            "Iteration  53  Value of X is  -4.9999269249181335\n",
            "Iteration  54  Value of X is  -4.999941539934507\n",
            "Iteration  55  Value of X is  -4.999953231947606\n",
            "Iteration  56  Value of X is  -4.999962585558085\n",
            "Iteration  57  Value of X is  -4.999970068446467\n",
            "Iteration  58  Value of X is  -4.999976054757174\n",
            "Iteration  59  Value of X is  -4.999980843805739\n",
            "Iteration  60  Value of X is  -4.999984675044591\n",
            "Iteration  61  Value of X is  -4.999987740035673\n",
            "Iteration  62  Value of X is  -4.999990192028538\n",
            "Iteration  63  Value of X is  -4.999992153622831\n",
            "Iteration  64  Value of X is  -4.999993722898265\n",
            "Iteration  65  Value of X is  -4.999994978318612\n",
            "Iteration  66  Value of X is  -4.999995982654889\n",
            "Iteration  67  Value of X is  -4.999996786123911\n",
            " the global minima occurs at  -4.999996786123911\n"
          ],
          "name": "stdout"
        }
      ]
    },
    {
      "cell_type": "code",
      "metadata": {
        "id": "yGL0BusJrZ9b"
      },
      "source": [
        ""
      ],
      "execution_count": null,
      "outputs": []
    }
  ]
}