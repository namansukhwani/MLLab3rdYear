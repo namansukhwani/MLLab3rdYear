{
  "nbformat": 4,
  "nbformat_minor": 0,
  "metadata": {
    "colab": {
      "name": "Copy of Copy for CS2 III year cifar10.ipynb",
      "provenance": [],
      "collapsed_sections": [],
      "include_colab_link": true
    },
    "kernelspec": {
      "name": "python3",
      "display_name": "Python 3"
    },
    "accelerator": "GPU"
  },
  "cells": [
    {
      "cell_type": "markdown",
      "metadata": {
        "id": "view-in-github",
        "colab_type": "text"
      },
      "source": [
        "<a href=\"https://colab.research.google.com/github/muskan-patidar/ML-Lab/blob/main/cifar10.ipynb\" target=\"_parent\"><img src=\"https://colab.research.google.com/assets/colab-badge.svg\" alt=\"Open In Colab\"/></a>"
      ]
    },
    {
      "cell_type": "code",
      "metadata": {
        "id": "6OrmH99i24qH"
      },
      "source": [
        ""
      ],
      "execution_count": null,
      "outputs": []
    },
    {
      "cell_type": "code",
      "metadata": {
        "id": "wok7uJxRRGXn"
      },
      "source": [
        "import warnings\n",
        "warnings.filterwarnings('ignore')\n",
        "\n",
        "import numpy as np\n",
        "import matplotlib.pyplot as plt\n",
        "import keras\n",
        "from keras.datasets import mnist\n",
        "from keras.models import Sequential,model_from_json\n",
        "from keras.layers import Dense\n",
        "from keras.optimizers import RMSprop\n",
        "import pylab as plt"
      ],
      "execution_count": 1,
      "outputs": []
    },
    {
      "cell_type": "code",
      "metadata": {
        "id": "rLrjw9n4Qwhc",
        "colab": {
          "base_uri": "https://localhost:8080/"
        },
        "outputId": "0dbcc687-11da-4fd4-bde6-fc244efa80ae"
      },
      "source": [
        "from keras.datasets import cifar10\n",
        "batch_size = 128\n",
        "num_classes = 10\n",
        "epochs = 2\n",
        "\n",
        "# the data, split between train and test sets\n",
        "(x_train, y_train), (x_test, y_test) = cifar10.load_data()\n",
        "print('x_train shape:', x_train.shape)\n",
        "print(x_train.shape[0], 'train samples')\n",
        "print(x_test.shape[0], 'test samples')\n",
        "\n",
        "x_train = x_train.reshape(50000, 3072)\n",
        "x_test = x_test.reshape(10000, 3072)\n",
        "x_train = x_train.astype('float32')\n",
        "x_test = x_test.astype('float32')\n",
        "\n",
        "# Normalize to 0 to 1 range\n",
        "x_train /= 255\n",
        "x_test /= 255\n",
        "\n",
        "print(x_train.shape[0], 'train samples')\n",
        "print(x_test.shape[0], 'test samples')\n",
        "# convert class vectors to binary class matrices\n",
        "y_train = keras.utils.to_categorical(y_train, num_classes)\n",
        "y_test = keras.utils.to_categorical(y_test, num_classes)\n",
        "\n"
      ],
      "execution_count": 11,
      "outputs": [
        {
          "output_type": "stream",
          "text": [
            "x_train shape: (50000, 32, 32, 3)\n",
            "50000 train samples\n",
            "10000 test samples\n",
            "50000 train samples\n",
            "10000 test samples\n"
          ],
          "name": "stdout"
        }
      ]
    },
    {
      "cell_type": "code",
      "metadata": {
        "id": "4GSz1VZbSuJR",
        "colab": {
          "base_uri": "https://localhost:8080/",
          "height": 283
        },
        "outputId": "d1ea0a4b-b895-4b53-9a9e-d8c575184eb4"
      },
      "source": [
        "print(\"Label:\",y_test[12:13])\n",
        "plt.imshow(x_test[12:13].reshape(32,32,3), cmap='gray')\n",
        "plt.show()"
      ],
      "execution_count": 9,
      "outputs": [
        {
          "output_type": "stream",
          "text": [
            "Label: [[0. 0. 0. 0. 0. 1. 0. 0. 0. 0.]]\n"
          ],
          "name": "stdout"
        },
        {
          "output_type": "display_data",
          "data": {
            "image/png": "[encoded data removed]",
            "text/plain": [
              "<Figure size 432x288 with 1 Axes>"
            ]
          },
          "metadata": {
            "tags": [],
            "needs_background": "light"
          }
        }
      ]
    },
    {
      "cell_type": "code",
      "metadata": {
        "id": "djmtkLpkTXil",
        "colab": {
          "base_uri": "https://localhost:8080/"
        },
        "outputId": "3a4ed1f9-be09-4c71-f9b4-1245b4adffd6"
      },
      "source": [
        "from keras.layers import Dropout\n",
        "from keras.optimizers import RMSprop\n",
        "\n",
        "model = Sequential()\n",
        "\n",
        "model.add(Dense(2048,activation='relu', input_shape=(3072,)))\n",
        "\n",
        "model.add(Dense(1024, activation='relu'))\n",
        "\n",
        "model.add(Dense(512, activation='relu'))\n",
        "model.add(Dense(128, activation='relu'))\n",
        "model.add(Dense(64, activation='relu'))\n",
        "model.add(Dense(32, activation='relu'))\n",
        "model.add(Dense(num_classes, activation='softmax'))\n",
        "\n",
        "model.summary()\n",
        "#multiclassthereforecategoricalcrossentropy\n",
        "model.compile(loss='categorical_crossentropy',\n",
        "              optimizer=RMSprop(),\n",
        "              metrics=['accuracy'])\n",
        "\n",
        "history = model.fit(x_train, y_train,\n",
        "                    batch_size=batch_size,\n",
        "                    epochs=5,\n",
        "                    verbose=1,\n",
        "                    validation_data=(x_test, y_test))\n",
        "score = model.evaluate(x_test, y_test, verbose=0)\n",
        "print('Test loss:', score[0])\n",
        "print('Test accuracy:', score[1])"
      ],
      "execution_count": 4,
      "outputs": [
        {
          "output_type": "stream",
          "text": [
            "Model: \"sequential\"\n",
            "_________________________________________________________________\n",
            "Layer (type)                 Output Shape              Param #   \n",
            "=================================================================\n",
            "dense (Dense)                (None, 2048)              6293504   \n",
            "_________________________________________________________________\n",
            "dense_1 (Dense)              (None, 1024)              2098176   \n",
            "_________________________________________________________________\n",
            "dense_2 (Dense)              (None, 512)               524800    \n",
            "_________________________________________________________________\n",
            "dense_3 (Dense)              (None, 128)               65664     \n",
            "_________________________________________________________________\n",
            "dense_4 (Dense)              (None, 64)                8256      \n",
            "_________________________________________________________________\n",
            "dense_5 (Dense)              (None, 32)                2080      \n",
            "_________________________________________________________________\n",
            "dense_6 (Dense)              (None, 10)                330       \n",
            "=================================================================\n",
            "Total params: 8,992,810\n",
            "Trainable params: 8,992,810\n",
            "Non-trainable params: 0\n",
            "_________________________________________________________________\n",
            "Epoch 1/5\n",
            "391/391 [==============================] - 6s 7ms/step - loss: 2.7818 - accuracy: 0.1543 - val_loss: 1.9342 - val_accuracy: 0.2961\n",
            "Epoch 2/5\n",
            "391/391 [==============================] - 2s 6ms/step - loss: 1.9316 - accuracy: 0.2998 - val_loss: 1.9434 - val_accuracy: 0.2967\n",
            "Epoch 3/5\n",
            "391/391 [==============================] - 2s 6ms/step - loss: 1.8186 - accuracy: 0.3451 - val_loss: 1.7502 - val_accuracy: 0.3721\n",
            "Epoch 4/5\n",
            "391/391 [==============================] - 2s 6ms/step - loss: 1.7232 - accuracy: 0.3807 - val_loss: 1.7512 - val_accuracy: 0.3876\n",
            "Epoch 5/5\n",
            "391/391 [==============================] - 2s 6ms/step - loss: 1.6861 - accuracy: 0.4000 - val_loss: 1.6883 - val_accuracy: 0.3997\n",
            "Test loss: 1.6883050203323364\n",
            "Test accuracy: 0.39969998598098755\n"
          ],
          "name": "stdout"
        }
      ]
    },
    {
      "cell_type": "code",
      "metadata": {
        "id": "4ok_zATxXIkO",
        "colab": {
          "base_uri": "https://localhost:8080/"
        },
        "outputId": "d45c2ce8-3550-450d-b691-7a4943a34624"
      },
      "source": [
        "from keras.layers import Dropout\n",
        "from keras.optimizers import Adam\n",
        "\n",
        "model = Sequential()\n",
        "\n",
        "model.add(Dense(4096,activation='tanh', input_shape=(3072,)))\n",
        "\n",
        "model.add(Dense(1024, activation='relu'))\n",
        "\n",
        "model.add(Dense(512, activation='relu'))\n",
        "model.add(Dense(128, activation='relu'))\n",
        "model.add(Dense(64, activation='relu'))\n",
        "model.add(Dense(32, activation='relu'))\n",
        "model.add(Dense(num_classes, activation='softmax'))\n",
        "\n",
        "model.summary()\n",
        "model.compile(loss='categorical_crossentropy',\n",
        "              optimizer=Adam(),\n",
        "              metrics=['accuracy'])\n",
        "\n",
        "history = model.fit(x_train, y_train,\n",
        "                    batch_size=256,\n",
        "                    epochs=15,\n",
        "                    verbose=1,\n",
        "                    validation_data=(x_test, y_test))\n",
        "score = model.evaluate(x_test, y_test, verbose=0)\n",
        "print('Test loss:', score[0])\n",
        "print('Test accuracy:', score[1])"
      ],
      "execution_count": 14,
      "outputs": [
        {
          "output_type": "stream",
          "text": [
            "Model: \"sequential_5\"\n",
            "_________________________________________________________________\n",
            "Layer (type)                 Output Shape              Param #   \n",
            "=================================================================\n",
            "dense_35 (Dense)             (None, 4096)              12587008  \n",
            "_________________________________________________________________\n",
            "dense_36 (Dense)             (None, 1024)              4195328   \n",
            "_________________________________________________________________\n",
            "dense_37 (Dense)             (None, 512)               524800    \n",
            "_________________________________________________________________\n",
            "dense_38 (Dense)             (None, 128)               65664     \n",
            "_________________________________________________________________\n",
            "dense_39 (Dense)             (None, 64)                8256      \n",
            "_________________________________________________________________\n",
            "dense_40 (Dense)             (None, 32)                2080      \n",
            "_________________________________________________________________\n",
            "dense_41 (Dense)             (None, 10)                330       \n",
            "=================================================================\n",
            "Total params: 17,383,466\n",
            "Trainable params: 17,383,466\n",
            "Non-trainable params: 0\n",
            "_________________________________________________________________\n",
            "Epoch 1/15\n",
            "196/196 [==============================] - 2s 9ms/step - loss: 2.3581 - accuracy: 0.1188 - val_loss: 2.1258 - val_accuracy: 0.1787\n",
            "Epoch 2/15\n",
            "196/196 [==============================] - 2s 8ms/step - loss: 2.0647 - accuracy: 0.1962 - val_loss: 2.0093 - val_accuracy: 0.2172\n",
            "Epoch 3/15\n",
            "196/196 [==============================] - 2s 8ms/step - loss: 1.9688 - accuracy: 0.2431 - val_loss: 1.9430 - val_accuracy: 0.2517\n",
            "Epoch 4/15\n",
            "196/196 [==============================] - 2s 9ms/step - loss: 1.9076 - accuracy: 0.2747 - val_loss: 1.8469 - val_accuracy: 0.3218\n",
            "Epoch 5/15\n",
            "196/196 [==============================] - 2s 8ms/step - loss: 1.8512 - accuracy: 0.3157 - val_loss: 1.8103 - val_accuracy: 0.3461\n",
            "Epoch 6/15\n",
            "196/196 [==============================] - 2s 8ms/step - loss: 1.8145 - accuracy: 0.3342 - val_loss: 1.8146 - val_accuracy: 0.3453\n",
            "Epoch 7/15\n",
            "196/196 [==============================] - 2s 8ms/step - loss: 1.7546 - accuracy: 0.3609 - val_loss: 1.7575 - val_accuracy: 0.3593\n",
            "Epoch 8/15\n",
            "196/196 [==============================] - 2s 8ms/step - loss: 1.7365 - accuracy: 0.3620 - val_loss: 1.7713 - val_accuracy: 0.3567\n",
            "Epoch 9/15\n",
            "196/196 [==============================] - 2s 8ms/step - loss: 1.7116 - accuracy: 0.3735 - val_loss: 1.6748 - val_accuracy: 0.3990\n",
            "Epoch 10/15\n",
            "196/196 [==============================] - 2s 8ms/step - loss: 1.6760 - accuracy: 0.3896 - val_loss: 1.6689 - val_accuracy: 0.3895\n",
            "Epoch 11/15\n",
            "196/196 [==============================] - 2s 8ms/step - loss: 1.6324 - accuracy: 0.4070 - val_loss: 1.6207 - val_accuracy: 0.4140\n",
            "Epoch 12/15\n",
            "196/196 [==============================] - 2s 8ms/step - loss: 1.6369 - accuracy: 0.4037 - val_loss: 1.6408 - val_accuracy: 0.4007\n",
            "Epoch 13/15\n",
            "196/196 [==============================] - 2s 8ms/step - loss: 1.6144 - accuracy: 0.4091 - val_loss: 1.7011 - val_accuracy: 0.3909\n",
            "Epoch 14/15\n",
            "196/196 [==============================] - 2s 8ms/step - loss: 1.6023 - accuracy: 0.4144 - val_loss: 1.5889 - val_accuracy: 0.4292\n",
            "Epoch 15/15\n",
            "196/196 [==============================] - 2s 8ms/step - loss: 1.5722 - accuracy: 0.4260 - val_loss: 1.6204 - val_accuracy: 0.4147\n",
            "Test loss: 1.6204040050506592\n",
            "Test accuracy: 0.4147000014781952\n"
          ],
          "name": "stdout"
        }
      ]
    },
    {
      "cell_type": "code",
      "metadata": {
        "id": "_YTwFbKrXse_",
        "colab": {
          "base_uri": "https://localhost:8080/",
          "height": 765
        },
        "outputId": "8137093f-0164-4897-b2c1-b2ea3dd55a0e"
      },
      "source": [
        "from keras.layers import Dropout\n",
        "from keras.optimizers import Adam\n",
        "\n",
        "model = Sequential()\n",
        "\n",
        "model.add(Dense(4096,activation='relu', input_shape=(3072,)))\n",
        "\n",
        "model.add(Dense(1024, activation='relu'))\n",
        "\n",
        "model.add(Dense(512, activation='relu'))\n",
        "model.add(Dense(128, activation='relu'))\n",
        "model.add(Dense(64, activation='relu'))\n",
        "model.add(Dense(32, activation='relu'))\n",
        "model.add(Dense(num_classes, activation='softmax'))\n",
        "\n",
        "model.summary()\n",
        "model.compile(loss='categorical_crossentropy',\n",
        "              optimizer=Adam(),\n",
        "              metrics=['accuracy'])\n",
        "\n",
        "history = model.fit(x_train, y_train,\n",
        "                    batch_size=batch_size,\n",
        "                    epochs=10,\n",
        "                    verbose=1,\n",
        "                    validation_data=(x_test, y_test))\n",
        "score = model.evaluate(x_test, y_test, verbose=0)\n",
        "print('Test loss:', score[0])\n",
        "print('Test accuracy:', score[1])"
      ],
      "execution_count": null,
      "outputs": [
        {
          "output_type": "stream",
          "text": [
            "_________________________________________________________________\n",
            "Layer (type)                 Output Shape              Param #   \n",
            "=================================================================\n",
            "dense_72 (Dense)             (None, 4096)              12587008  \n",
            "_________________________________________________________________\n",
            "dense_73 (Dense)             (None, 1024)              4195328   \n",
            "_________________________________________________________________\n",
            "dense_74 (Dense)             (None, 512)               524800    \n",
            "_________________________________________________________________\n",
            "dense_75 (Dense)             (None, 128)               65664     \n",
            "_________________________________________________________________\n",
            "dense_76 (Dense)             (None, 64)                8256      \n",
            "_________________________________________________________________\n",
            "dense_77 (Dense)             (None, 32)                2080      \n",
            "_________________________________________________________________\n",
            "dense_78 (Dense)             (None, 10)                330       \n",
            "=================================================================\n",
            "Total params: 17,383,466\n",
            "Trainable params: 17,383,466\n",
            "Non-trainable params: 0\n",
            "_________________________________________________________________\n",
            "Train on 50000 samples, validate on 10000 samples\n",
            "Epoch 1/10\n",
            "50000/50000 [==============================] - 9s 176us/step - loss: 2.0205 - acc: 0.2539 - val_loss: 1.7984 - val_acc: 0.3480\n",
            "Epoch 2/10\n",
            "50000/50000 [==============================] - 7s 143us/step - loss: 1.7710 - acc: 0.3577 - val_loss: 1.6691 - val_acc: 0.4015\n",
            "Epoch 3/10\n",
            "50000/50000 [==============================] - 7s 143us/step - loss: 1.6607 - acc: 0.4011 - val_loss: 1.6130 - val_acc: 0.4215\n",
            "Epoch 4/10\n",
            "50000/50000 [==============================] - 7s 143us/step - loss: 1.6002 - acc: 0.4263 - val_loss: 1.5621 - val_acc: 0.4430\n",
            "Epoch 5/10\n",
            "50000/50000 [==============================] - 7s 144us/step - loss: 1.5445 - acc: 0.4470 - val_loss: 1.5711 - val_acc: 0.4409\n",
            "Epoch 6/10\n",
            "50000/50000 [==============================] - 7s 144us/step - loss: 1.5004 - acc: 0.4612 - val_loss: 1.4813 - val_acc: 0.4703\n",
            "Epoch 7/10\n",
            "50000/50000 [==============================] - 7s 143us/step - loss: 1.4583 - acc: 0.4783 - val_loss: 1.4960 - val_acc: 0.4647\n",
            "Epoch 8/10\n",
            "50000/50000 [==============================] - 7s 144us/step - loss: 1.4221 - acc: 0.4871 - val_loss: 1.5032 - val_acc: 0.4690\n",
            "Epoch 9/10\n",
            "50000/50000 [==============================] - 7s 143us/step - loss: 1.3843 - acc: 0.5037 - val_loss: 1.4428 - val_acc: 0.4864\n",
            "Epoch 10/10\n",
            "50000/50000 [==============================] - 7s 143us/step - loss: 1.3458 - acc: 0.5164 - val_loss: 1.4033 - val_acc: 0.5017\n",
            "Test loss: 1.4032809234619141\n",
            "Test accuracy: 0.5017\n"
          ],
          "name": "stdout"
        }
      ]
    },
    {
      "cell_type": "code",
      "metadata": {
        "id": "ETTxYi1VYTyU",
        "colab": {
          "base_uri": "https://localhost:8080/",
          "height": 935
        },
        "outputId": "65bd222b-e270-46a7-a061-10270e6fc0bd"
      },
      "source": [
        "from keras.layers import Dropout\n",
        "from keras.optimizers import Adam\n",
        "\n",
        "model = Sequential()\n",
        "\n",
        "model.add(Dense(1024,activation='relu', input_shape=(3072,)))\n",
        "\n",
        "model.add(Dense(1024, activation='relu'))\n",
        "\n",
        "model.add(Dense(512, activation='relu'))\n",
        "model.add(Dense(128, activation='relu'))\n",
        "model.add(Dense(64, activation='relu'))\n",
        "model.add(Dense(32, activation='relu'))\n",
        "model.add(Dense(num_classes, activation='softmax'))\n",
        "\n",
        "model.summary()\n",
        "model.compile(loss='categorical_crossentropy',\n",
        "              optimizer=Adam(),\n",
        "              metrics=['accuracy'])\n",
        "\n",
        "history = model.fit(x_train, y_train,\n",
        "                    batch_size=batch_size,\n",
        "                    epochs=15,\n",
        "                    verbose=1,\n",
        "                    validation_data=(x_test, y_test))\n",
        "score = model.evaluate(x_test, y_test, verbose=0)\n",
        "print('Test loss:', score[0])\n",
        "print('Test accuracy:', score[1])"
      ],
      "execution_count": null,
      "outputs": [
        {
          "output_type": "stream",
          "text": [
            "_________________________________________________________________\n",
            "Layer (type)                 Output Shape              Param #   \n",
            "=================================================================\n",
            "dense_8 (Dense)              (None, 1024)              3146752   \n",
            "_________________________________________________________________\n",
            "dense_9 (Dense)              (None, 1024)              1049600   \n",
            "_________________________________________________________________\n",
            "dense_10 (Dense)             (None, 512)               524800    \n",
            "_________________________________________________________________\n",
            "dense_11 (Dense)             (None, 128)               65664     \n",
            "_________________________________________________________________\n",
            "dense_12 (Dense)             (None, 64)                8256      \n",
            "_________________________________________________________________\n",
            "dense_13 (Dense)             (None, 32)                2080      \n",
            "_________________________________________________________________\n",
            "dense_14 (Dense)             (None, 10)                330       \n",
            "=================================================================\n",
            "Total params: 4,797,482\n",
            "Trainable params: 4,797,482\n",
            "Non-trainable params: 0\n",
            "_________________________________________________________________\n",
            "Train on 50000 samples, validate on 10000 samples\n",
            "Epoch 1/15\n",
            "50000/50000 [==============================] - 7s 131us/step - loss: 1.9849 - acc: 0.2647 - val_loss: 1.7690 - val_acc: 0.3618\n",
            "Epoch 2/15\n",
            "50000/50000 [==============================] - 3s 66us/step - loss: 1.7518 - acc: 0.3629 - val_loss: 1.6787 - val_acc: 0.3934\n",
            "Epoch 3/15\n",
            "50000/50000 [==============================] - 3s 66us/step - loss: 1.6689 - acc: 0.3985 - val_loss: 1.6059 - val_acc: 0.4228\n",
            "Epoch 4/15\n",
            "50000/50000 [==============================] - 3s 65us/step - loss: 1.5864 - acc: 0.4297 - val_loss: 1.5785 - val_acc: 0.4371\n",
            "Epoch 5/15\n",
            "50000/50000 [==============================] - 3s 66us/step - loss: 1.5354 - acc: 0.4470 - val_loss: 1.4989 - val_acc: 0.4689\n",
            "Epoch 6/15\n",
            "50000/50000 [==============================] - 3s 65us/step - loss: 1.4908 - acc: 0.4693 - val_loss: 1.5035 - val_acc: 0.4647\n",
            "Epoch 7/15\n",
            "50000/50000 [==============================] - 3s 65us/step - loss: 1.4467 - acc: 0.4828 - val_loss: 1.4831 - val_acc: 0.4702\n",
            "Epoch 8/15\n",
            "50000/50000 [==============================] - 3s 64us/step - loss: 1.4052 - acc: 0.4975 - val_loss: 1.4344 - val_acc: 0.4926\n",
            "Epoch 9/15\n",
            "50000/50000 [==============================] - 3s 64us/step - loss: 1.3747 - acc: 0.5090 - val_loss: 1.4637 - val_acc: 0.4766\n",
            "Epoch 10/15\n",
            "50000/50000 [==============================] - 3s 65us/step - loss: 1.3441 - acc: 0.5184 - val_loss: 1.4576 - val_acc: 0.4854\n",
            "Epoch 11/15\n",
            "50000/50000 [==============================] - 3s 64us/step - loss: 1.3130 - acc: 0.5306 - val_loss: 1.4176 - val_acc: 0.4974\n",
            "Epoch 12/15\n",
            "50000/50000 [==============================] - 3s 65us/step - loss: 1.2789 - acc: 0.5429 - val_loss: 1.4202 - val_acc: 0.4989\n",
            "Epoch 13/15\n",
            "50000/50000 [==============================] - 3s 65us/step - loss: 1.2440 - acc: 0.5553 - val_loss: 1.3806 - val_acc: 0.5144\n",
            "Epoch 14/15\n",
            "50000/50000 [==============================] - 3s 66us/step - loss: 1.2081 - acc: 0.5664 - val_loss: 1.4020 - val_acc: 0.5164\n",
            "Epoch 15/15\n",
            "50000/50000 [==============================] - 3s 67us/step - loss: 1.1757 - acc: 0.5779 - val_loss: 1.4128 - val_acc: 0.5107\n",
            "Test loss: 1.4128262720108031\n",
            "Test accuracy: 0.5107\n"
          ],
          "name": "stdout"
        }
      ]
    },
    {
      "cell_type": "code",
      "metadata": {
        "id": "5XHfHM1T4rMZ"
      },
      "source": [
        "#summarizehistory\n"
      ],
      "execution_count": null,
      "outputs": []
    },
    {
      "cell_type": "code",
      "metadata": {
        "id": "aCuYVKL-5soU",
        "colab": {
          "base_uri": "https://localhost:8080/",
          "height": 590
        },
        "outputId": "33c437a1-d786-4cbf-dc72-5e672dfa6b55"
      },
      "source": [
        "#history = model.fit(x_train, y_train, validation_split=0.33, epochs=150, batch_size=10, verbose=0)\n",
        "# list all data in history\n",
        "print(history.history.keys())\n",
        "# summarize history for accuracy\n",
        "plt.plot(history.history['acc'])\n",
        "plt.plot(history.history['val_acc'])\n",
        "plt.title('model accuracy')\n",
        "plt.ylabel('accuracy')\n",
        "plt.xlabel('epoch')\n",
        "plt.legend(['train', 'test'], loc='upper left')\n",
        "plt.show()\n",
        "# summarize history for loss\n",
        "plt.plot(history.history['loss'])\n",
        "plt.plot(history.history['val_loss'])\n",
        "plt.title('model loss')\n",
        "plt.ylabel('loss')\n",
        "plt.xlabel('epoch')\n",
        "plt.legend(['train', 'test'], loc='upper left')\n",
        "plt.show()"
      ],
      "execution_count": null,
      "outputs": [
        {
          "output_type": "stream",
          "text": [
            "dict_keys(['val_loss', 'val_acc', 'loss', 'acc'])\n"
          ],
          "name": "stdout"
        },
        {
          "output_type": "display_data",
          "data": {
            "image/png": "[encoded data removed]",
            "text/plain": [
              "<Figure size 432x288 with 1 Axes>"
            ]
          },
          "metadata": {
            "tags": []
          }
        },
        {
          "output_type": "display_data",
          "data": {
            "image/png": "[encoded data removed]",
            "text/plain": [
              "<Figure size 432x288 with 1 Axes>"
            ]
          },
          "metadata": {
            "tags": []
          }
        }
      ]
    },
    {
      "cell_type": "code",
      "metadata": {
        "id": "5ThlAa2G40aa"
      },
      "source": [
        "#nexttwocellforcifar100"
      ],
      "execution_count": null,
      "outputs": []
    },
    {
      "cell_type": "code",
      "metadata": {
        "id": "N5FWnvub4qG4"
      },
      "source": [
        "from keras.datasets import cifar10\n",
        "batch_size = 128\n",
        "num_classes = 10\n",
        "epochs = 2\n",
        "\n",
        "# the data, split between train and test sets\n",
        "(x_train, y_train), (x_test, y_test) = cifar100.load_data()\n",
        "print('x_train shape:', x_train.shape)\n",
        "print(x_train.shape[0], 'train samples')\n",
        "print(x_test.shape[0], 'test samples')\n",
        "\n",
        "x_train = x_train.reshape(50000, 3072)\n",
        "x_test = x_test.reshape(10000, 3072)\n",
        "x_train = x_train.astype('float32')\n",
        "x_test = x_test.astype('float32')\n",
        "\n",
        "# Normalize to 0 to 1 range\n",
        "x_train /= 255\n",
        "x_test /= 255\n",
        "\n",
        "print(x_train.shape[0], 'train samples')\n",
        "print(x_test.shape[0], 'test samples')\n",
        "# convert class vectors to binary class matrices\n",
        "y_train = keras.utils.to_categorical(y_train, num_classes)\n",
        "y_test = keras.utils.to_categorical(y_test, num_classes)"
      ],
      "execution_count": null,
      "outputs": []
    },
    {
      "cell_type": "code",
      "metadata": {
        "id": "PrOjh3lG4-56"
      },
      "source": [
        "from keras.layers import Dropout\n",
        "from keras.optimizers import Adam\n",
        "\n",
        "model = Sequential()\n",
        "\n",
        "model.add(Dense(4096,activation='relu', input_shape=(3072,)))\n",
        "\n",
        "model.add(Dense(1024, activation='relu'))\n",
        "\n",
        "model.add(Dense(512, activation='relu'))\n",
        "model.add(Dense(128, activation='relu'))\n",
        "model.add(Dense(64, activation='relu'))\n",
        "model.add(Dense(32, activation='relu'))\n",
        "model.add(Dense(num_classes, activation='softmax'))\n",
        "\n",
        "model.summary()\n",
        "model.compile(loss='categorical_crossentropy',\n",
        "              optimizer=Adam(),\n",
        "              metrics=['accuracy'])\n",
        "\n",
        "history = model.fit(x_train, y_train,\n",
        "                    batch_size=batch_size,\n",
        "                    epochs=10,\n",
        "                    verbose=1,\n",
        "                    validation_data=(x_test, y_test))\n",
        "score = model.evaluate(x_test, y_test, verbose=0)\n",
        "print('Test loss:', score[0])\n",
        "print('Test accuracy:', score[1])"
      ],
      "execution_count": null,
      "outputs": []
    }
  ]
}