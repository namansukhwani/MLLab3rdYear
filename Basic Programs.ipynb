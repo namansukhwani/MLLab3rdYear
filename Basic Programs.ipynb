{
  "nbformat": 4,
  "nbformat_minor": 5,
  "metadata": {
    "kernelspec": {
      "display_name": "Python 3",
      "language": "python",
      "name": "python3"
    },
    "language_info": {
      "codemirror_mode": {
        "name": "ipython",
        "version": 3
      },
      "file_extension": ".py",
      "mimetype": "text/x-python",
      "name": "python",
      "nbconvert_exporter": "python",
      "pygments_lexer": "ipython3",
      "version": "3.7.8"
    },
    "colab": {
      "name": "Copy of Lab1.ipynb",
      "provenance": [],
      "include_colab_link": true
    }
  },
  "cells": [
    {
      "cell_type": "markdown",
      "metadata": {
        "id": "view-in-github",
        "colab_type": "text"
      },
      "source": [
        "<a href=\"https://colab.research.google.com/github/muskan-patidar/ML-Lab/blob/main/Basic%20Programs.ipynb\" target=\"_parent\"><img src=\"https://colab.research.google.com/assets/colab-badge.svg\" alt=\"Open In Colab\"/></a>"
      ]
    },
    {
      "cell_type": "code",
      "metadata": {
        "id": "continental-merchant",
        "colab": {
          "base_uri": "https://localhost:8080/"
        },
        "outputId": "65973cbf-a550-4818-a5b0-3167769eb024"
      },
      "source": [
        "a=2\n",
        "b=5\n",
        "a,b=b,a\n",
        "a\n"
      ],
      "id": "continental-merchant",
      "execution_count": 26,
      "outputs": [
        {
          "output_type": "execute_result",
          "data": {
            "text/plain": [
              "5"
            ]
          },
          "metadata": {
            "tags": []
          },
          "execution_count": 26
        }
      ]
    },
    {
      "cell_type": "code",
      "metadata": {
        "id": "interracial-soldier",
        "colab": {
          "base_uri": "https://localhost:8080/"
        },
        "outputId": "a001dc89-06f1-426b-f477-7a44faed5696"
      },
      "source": [
        "for i in range(10):\n",
        "    print(i)\n",
        "    "
      ],
      "id": "interracial-soldier",
      "execution_count": 27,
      "outputs": [
        {
          "output_type": "stream",
          "text": [
            "0\n",
            "1\n",
            "2\n",
            "3\n",
            "4\n",
            "5\n",
            "6\n",
            "7\n",
            "8\n",
            "9\n"
          ],
          "name": "stdout"
        }
      ]
    },
    {
      "cell_type": "code",
      "metadata": {
        "id": "premier-genetics",
        "colab": {
          "base_uri": "https://localhost:8080/"
        },
        "outputId": "a74e267f-8a0e-4cfc-cfbd-0f3faadd7e4f"
      },
      "source": [
        "k=10\n",
        "while(k<=20):\n",
        "     print(k) \n",
        "     k=k+1\n",
        "        "
      ],
      "id": "premier-genetics",
      "execution_count": null,
      "outputs": [
        {
          "output_type": "stream",
          "text": [
            "10\n",
            "11\n",
            "12\n",
            "13\n",
            "14\n",
            "15\n",
            "16\n",
            "17\n",
            "18\n",
            "19\n",
            "20\n"
          ],
          "name": "stdout"
        }
      ]
    },
    {
      "cell_type": "code",
      "metadata": {
        "id": "secondary-oklahoma",
        "colab": {
          "base_uri": "https://localhost:8080/"
        },
        "outputId": "db14b58e-100f-49fc-f343-65b92587f33f"
      },
      "source": [
        "import random\n",
        "random.randrange(1,10)"
      ],
      "id": "secondary-oklahoma",
      "execution_count": null,
      "outputs": [
        {
          "output_type": "execute_result",
          "data": {
            "text/plain": [
              "4"
            ]
          },
          "metadata": {
            "tags": []
          },
          "execution_count": 4
        }
      ]
    },
    {
      "cell_type": "code",
      "metadata": {
        "id": "vertical-timer",
        "colab": {
          "base_uri": "https://localhost:8080/"
        },
        "outputId": "b1e355ca-4b88-4105-f321-15284761c249"
      },
      "source": [
        "random.random()"
      ],
      "id": "vertical-timer",
      "execution_count": null,
      "outputs": [
        {
          "output_type": "execute_result",
          "data": {
            "text/plain": [
              "0.31790487180603444"
            ]
          },
          "metadata": {
            "tags": []
          },
          "execution_count": 5
        }
      ]
    },
    {
      "cell_type": "code",
      "metadata": {
        "id": "encouraging-denial",
        "colab": {
          "base_uri": "https://localhost:8080/"
        },
        "outputId": "2a6b0a81-b4c6-45bd-9913-40cc9bdccfb7"
      },
      "source": [
        "random.randint(1,5)"
      ],
      "id": "encouraging-denial",
      "execution_count": null,
      "outputs": [
        {
          "output_type": "execute_result",
          "data": {
            "text/plain": [
              "1"
            ]
          },
          "metadata": {
            "tags": []
          },
          "execution_count": 6
        }
      ]
    },
    {
      "cell_type": "code",
      "metadata": {
        "id": "charitable-relay",
        "colab": {
          "base_uri": "https://localhost:8080/"
        },
        "outputId": "e5c41fd0-e1cb-49e9-fdba-6ed3e48ea4d2"
      },
      "source": [
        "L=[]\n",
        "L.append(2)\n",
        "\n",
        "L"
      ],
      "id": "charitable-relay",
      "execution_count": 36,
      "outputs": [
        {
          "output_type": "execute_result",
          "data": {
            "text/plain": [
              "[2]"
            ]
          },
          "metadata": {
            "tags": []
          },
          "execution_count": 36
        }
      ]
    },
    {
      "cell_type": "code",
      "metadata": {
        "id": "recent-democrat"
      },
      "source": [
        "L.append(3)\n",
        "L.append(0)\n",
        "L.reverse()"
      ],
      "id": "recent-democrat",
      "execution_count": 29,
      "outputs": []
    },
    {
      "cell_type": "code",
      "metadata": {
        "id": "confirmed-arbitration",
        "colab": {
          "base_uri": "https://localhost:8080/"
        },
        "outputId": "cbb958e4-e2ea-4cd0-f2f4-2d6f2b714593"
      },
      "source": [
        "L\n"
      ],
      "id": "confirmed-arbitration",
      "execution_count": 30,
      "outputs": [
        {
          "output_type": "execute_result",
          "data": {
            "text/plain": [
              "[0, 3, 2]"
            ]
          },
          "metadata": {
            "tags": []
          },
          "execution_count": 30
        }
      ]
    },
    {
      "cell_type": "code",
      "metadata": {
        "id": "fewer-poison",
        "colab": {
          "base_uri": "https://localhost:8080/"
        },
        "outputId": "21b63e83-5d54-4b76-b86d-19a73d1532a8"
      },
      "source": [
        "L.sort()\n",
        "L"
      ],
      "id": "fewer-poison",
      "execution_count": 31,
      "outputs": [
        {
          "output_type": "execute_result",
          "data": {
            "text/plain": [
              "[0, 2, 3]"
            ]
          },
          "metadata": {
            "tags": []
          },
          "execution_count": 31
        }
      ]
    },
    {
      "cell_type": "code",
      "metadata": {
        "id": "dutch-scope"
      },
      "source": [
        "L.len()\n",
        "L.insert(0, 9)\n",
        "L.pop(0)\n",
        "L.min()\n",
        "L.max()\n",
        "L.sum()\n"
      ],
      "id": "dutch-scope",
      "execution_count": null,
      "outputs": []
    },
    {
      "cell_type": "code",
      "metadata": {
        "id": "returning-philosophy",
        "colab": {
          "base_uri": "https://localhost:8080/"
        },
        "outputId": "d7a3e543-cb41-4f8d-8dd3-b17e18fc589d"
      },
      "source": [
        "del L[-1]\n",
        "L"
      ],
      "id": "returning-philosophy",
      "execution_count": null,
      "outputs": [
        {
          "output_type": "execute_result",
          "data": {
            "text/plain": [
              "[0]"
            ]
          },
          "metadata": {
            "tags": []
          },
          "execution_count": 22
        }
      ]
    },
    {
      "cell_type": "code",
      "metadata": {
        "id": "funky-pulse",
        "colab": {
          "base_uri": "https://localhost:8080/"
        },
        "outputId": "f95c9684-87c6-4658-8bd6-fac61e8aa9f5"
      },
      "source": [
        "cubes=[]\n",
        "for x in [1,2,3,4,5]:\n",
        "    cubes.append(x**3)\n",
        "print(cubes)"
      ],
      "id": "funky-pulse",
      "execution_count": null,
      "outputs": [
        {
          "output_type": "stream",
          "text": [
            "[1, 8, 27, 64, 125]\n"
          ],
          "name": "stdout"
        }
      ]
    },
    {
      "cell_type": "code",
      "metadata": {
        "id": "advised-guard",
        "colab": {
          "base_uri": "https://localhost:8080/"
        },
        "outputId": "936eecf3-3a8e-4d7d-83ea-2a53b7cd2891"
      },
      "source": [
        "cubes = [x**3 for x in [1,2,3,4,5,6]]\n",
        "cubes"
      ],
      "id": "advised-guard",
      "execution_count": null,
      "outputs": [
        {
          "output_type": "execute_result",
          "data": {
            "text/plain": [
              "[1, 8, 27, 64, 125, 216]"
            ]
          },
          "metadata": {
            "tags": []
          },
          "execution_count": 24
        }
      ]
    },
    {
      "cell_type": "code",
      "metadata": {
        "id": "exceptional-coral"
      },
      "source": [
        "n= int(input(\"Enter any Number\"))\n",
        "Number=[]\n",
        "for i in range(n):\n",
        "    Num= int(input(\"Enter List of Numbers\"))\n",
        "    Number.append(Num)\n",
        "print(Number)\n",
        "N=Number\n",
        "for i in N:\n",
        "    if i%2!=0:\n",
        "        Number.remove(i)\n",
        "print(Number)\n"
      ],
      "id": "exceptional-coral",
      "execution_count": null,
      "outputs": []
    },
    {
      "cell_type": "code",
      "metadata": {
        "id": "literary-insulation"
      },
      "source": [
        "n= int(input(\"Enter any Number\"))\n",
        "Number=[]\n",
        "for i in range(n):\n",
        "    Num= int(input(\"Enter List of Numbers\"))\n",
        "    Number.append(Num)\n",
        "    \n",
        "print(Number)\n",
        "N=Number\n",
        "for i in N:\n",
        "    if i%2!=0:\n",
        "        Number.remove(i)\n",
        "print(Number)"
      ],
      "id": "literary-insulation",
      "execution_count": null,
      "outputs": []
    },
    {
      "cell_type": "code",
      "metadata": {
        "id": "generous-switch",
        "outputId": "af221505-a556-41bd-9097-453c11d0ef4d"
      },
      "source": [
        "d={'a':25, 'b':35, 'c':56}\n",
        "d"
      ],
      "id": "generous-switch",
      "execution_count": null,
      "outputs": [
        {
          "output_type": "execute_result",
          "data": {
            "text/plain": [
              "{'a': 25, 'b': 35, 'c': 56}"
            ]
          },
          "metadata": {
            "tags": []
          },
          "execution_count": 25
        }
      ]
    },
    {
      "cell_type": "code",
      "metadata": {
        "id": "complimentary-projection",
        "outputId": "8872c12b-6425-4fa9-dd3a-eac17f8ee996"
      },
      "source": [
        "d['a']"
      ],
      "id": "complimentary-projection",
      "execution_count": null,
      "outputs": [
        {
          "output_type": "execute_result",
          "data": {
            "text/plain": [
              "25"
            ]
          },
          "metadata": {
            "tags": []
          },
          "execution_count": 26
        }
      ]
    },
    {
      "cell_type": "code",
      "metadata": {
        "id": "certified-valentine"
      },
      "source": [
        "del d['a']"
      ],
      "id": "certified-valentine",
      "execution_count": null,
      "outputs": []
    },
    {
      "cell_type": "code",
      "metadata": {
        "id": "random-origin",
        "outputId": "01e88e7c-d937-47db-a444-93a6a1e48935"
      },
      "source": [
        "d"
      ],
      "id": "random-origin",
      "execution_count": null,
      "outputs": [
        {
          "output_type": "execute_result",
          "data": {
            "text/plain": [
              "{'b': 35, 'c': 56}"
            ]
          },
          "metadata": {
            "tags": []
          },
          "execution_count": 28
        }
      ]
    },
    {
      "cell_type": "code",
      "metadata": {
        "id": "virtual-reset",
        "outputId": "9285d857-b739-443b-b857-670d28a31e86"
      },
      "source": [
        "d.keys()"
      ],
      "id": "virtual-reset",
      "execution_count": null,
      "outputs": [
        {
          "output_type": "execute_result",
          "data": {
            "text/plain": [
              "dict_keys(['b', 'c'])"
            ]
          },
          "metadata": {
            "tags": []
          },
          "execution_count": 34
        }
      ]
    },
    {
      "cell_type": "code",
      "metadata": {
        "id": "democratic-miniature",
        "outputId": "d015a198-2942-4c01-b1d1-ff2199c6187e"
      },
      "source": [
        "d.values()"
      ],
      "id": "democratic-miniature",
      "execution_count": null,
      "outputs": [
        {
          "output_type": "execute_result",
          "data": {
            "text/plain": [
              "dict_values([35, 56])"
            ]
          },
          "metadata": {
            "tags": []
          },
          "execution_count": 35
        }
      ]
    },
    {
      "cell_type": "code",
      "metadata": {
        "id": "lasting-orchestra",
        "outputId": "4e2d3691-d70b-483b-9884-b5aabd9cfa21"
      },
      "source": [
        "d.items()"
      ],
      "id": "lasting-orchestra",
      "execution_count": null,
      "outputs": [
        {
          "output_type": "execute_result",
          "data": {
            "text/plain": [
              "dict_items([('b', 35), ('c', 56)])"
            ]
          },
          "metadata": {
            "tags": []
          },
          "execution_count": 36
        }
      ]
    },
    {
      "cell_type": "code",
      "metadata": {
        "id": "strange-oakland",
        "outputId": "7979bb97-d0ec-40da-e1fa-0833ae8ab776"
      },
      "source": [
        "for i in d.items():\n",
        "    print(i)"
      ],
      "id": "strange-oakland",
      "execution_count": null,
      "outputs": [
        {
          "output_type": "stream",
          "text": [
            "('b', 35)\n",
            "('c', 56)\n"
          ],
          "name": "stdout"
        }
      ]
    },
    {
      "cell_type": "code",
      "metadata": {
        "id": "removable-jersey"
      },
      "source": [
        "d1= {x:x**2 for x in range(11)if x%2==0}"
      ],
      "id": "removable-jersey",
      "execution_count": null,
      "outputs": []
    },
    {
      "cell_type": "code",
      "metadata": {
        "id": "optical-athletics",
        "outputId": "664e39fa-7fff-4719-a0b9-217ded6cb519"
      },
      "source": [
        "d1"
      ],
      "id": "optical-athletics",
      "execution_count": null,
      "outputs": [
        {
          "output_type": "execute_result",
          "data": {
            "text/plain": [
              "{0: 0, 2: 4, 4: 16, 6: 36, 8: 64, 10: 100}"
            ]
          },
          "metadata": {
            "tags": []
          },
          "execution_count": 39
        }
      ]
    },
    {
      "cell_type": "code",
      "metadata": {
        "id": "found-opinion",
        "outputId": "0f4f4329-dee4-4e9d-8269-aa73c43137d6"
      },
      "source": [
        "d1.has_key(3)"
      ],
      "id": "found-opinion",
      "execution_count": null,
      "outputs": [
        {
          "output_type": "error",
          "ename": "AttributeError",
          "evalue": "'dict' object has no attribute 'has_key'",
          "traceback": [
            "\u001b[0;31m---------------------------------------------------------------------------\u001b[0m",
            "\u001b[0;31mAttributeError\u001b[0m                            Traceback (most recent call last)",
            "\u001b[0;32m<ipython-input-40-35d8f0407d3b>\u001b[0m in \u001b[0;36m<module>\u001b[0;34m\u001b[0m\n\u001b[0;32m----> 1\u001b[0;31m \u001b[0md1\u001b[0m\u001b[0;34m.\u001b[0m\u001b[0mhas_key\u001b[0m\u001b[0;34m(\u001b[0m\u001b[0;36m3\u001b[0m\u001b[0;34m)\u001b[0m\u001b[0;34m\u001b[0m\u001b[0;34m\u001b[0m\u001b[0m\n\u001b[0m",
            "\u001b[0;31mAttributeError\u001b[0m: 'dict' object has no attribute 'has_key'"
          ]
        }
      ]
    },
    {
      "cell_type": "code",
      "metadata": {
        "id": "sharing-hundred"
      },
      "source": [
        "import  matplotlib.pyplot as plt"
      ],
      "id": "sharing-hundred",
      "execution_count": null,
      "outputs": []
    },
    {
      "cell_type": "code",
      "metadata": {
        "id": "agreed-silicon",
        "outputId": "53558506-51a3-47b8-96a9-58b07b24fbae"
      },
      "source": [
        "plt.plot([1,2,3,4,5,6])\n",
        "plt.show()"
      ],
      "id": "agreed-silicon",
      "execution_count": null,
      "outputs": [
        {
          "output_type": "display_data",
          "data": {
            "image/png": "[encoded data removed]",
            "text/plain": [
              "<Figure size 432x288 with 1 Axes>"
            ]
          },
          "metadata": {
            "tags": [],
            "needs_background": "light"
          }
        }
      ]
    },
    {
      "cell_type": "code",
      "metadata": {
        "id": "sudden-shoot",
        "outputId": "52bf9f34-ad85-4f86-f38e-0d7e0f1cc565"
      },
      "source": [
        "plt.grid(True)\n",
        "plt.title('squares of the numbers')\n",
        "plt.xlabel('The Numbers', fontsize=18, color='red')\n",
        "plt.ylabel('The squares',fontsize=18, color='red')\n",
        "plt.plot([1,2,3,4,5], [1,4,9,16,25], 'r^-', linewidth=3.0)\n",
        "plt.show()"
      ],
      "id": "sudden-shoot",
      "execution_count": null,
      "outputs": [
        {
          "output_type": "display_data",
          "data": {
            "image/png": "[encoded data removed]",
            "text/plain": [
              "<Figure size 432x288 with 1 Axes>"
            ]
          },
          "metadata": {
            "tags": [],
            "needs_background": "light"
          }
        }
      ]
    },
    {
      "cell_type": "code",
      "metadata": {
        "id": "purple-executive"
      },
      "source": [
        ""
      ],
      "id": "purple-executive",
      "execution_count": null,
      "outputs": []
    }
  ]
}