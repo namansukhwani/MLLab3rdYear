{
  "nbformat": 4,
  "nbformat_minor": 0,
  "metadata": {
    "colab": {
      "name": "Naman Sukhwani_0827CS181126_ML_A1.ipynb",
      "provenance": [],
      "collapsed_sections": []
    },
    "kernelspec": {
      "name": "python3",
      "display_name": "Python 3"
    },
    "language_info": {
      "name": "python"
    }
  },
  "cells": [
    {
      "cell_type": "code",
      "metadata": {
        "id": "pP9Hcx1EKAV8",
        "colab": {
          "base_uri": "https://localhost:8080/"
        },
        "outputId": "9f0199e5-357d-444a-831b-779d93b0be4b"
      },
      "source": [
        "from sklearn import datasets, linear_model, metrics\n",
        "import csv \n",
        "import numpy as np \n",
        "import matplotlib.pyplot as plt \n",
        "import pandas as pd \n",
        "dataset = pd.read_csv('/content/world-happiness-report.csv')  \n",
        "dataset=np.array(dataset) \n",
        "dataset"
      ],
      "execution_count": 33,
      "outputs": [
        {
          "output_type": "execute_result",
          "data": {
            "text/plain": [
              "array([['Afghanistan', 2008, 3.7239999999999998, ..., 0.882, 0.518,\n",
              "        0.258],\n",
              "       ['Afghanistan', 2009, 4.402, ..., 0.85, 0.584, 0.237],\n",
              "       ['Afghanistan', 2010, 4.758, ..., 0.7070000000000001, 0.618,\n",
              "        0.275],\n",
              "       ...,\n",
              "       ['Zimbabwe', 2018, 3.616, ..., 0.8440000000000001, 0.71, 0.212],\n",
              "       ['Zimbabwe', 2019, 2.694, ..., 0.831, 0.716, 0.235],\n",
              "       ['Zimbabwe', 2020, 3.16, ..., 0.789, 0.703, 0.34600000000000003]],\n",
              "      dtype=object)"
            ]
          },
          "metadata": {
            "tags": []
          },
          "execution_count": 33
        }
      ]
    },
    {
      "cell_type": "code",
      "metadata": {
        "id": "lKbGfjp4LIDv",
        "colab": {
          "base_uri": "https://localhost:8080/"
        },
        "outputId": "48e82e63-b8b4-43cb-bd77-57f5f62b8b8c"
      },
      "source": [
        "from google.colab import drive\n",
        "drive.mount('/content/drive')"
      ],
      "execution_count": 9,
      "outputs": [
        {
          "output_type": "stream",
          "text": [
            "Mounted at /content/drive\n"
          ],
          "name": "stdout"
        }
      ]
    },
    {
      "cell_type": "code",
      "metadata": {
        "id": "p_aU1By_KHBs"
      },
      "source": [
        "from sklearn import datasets\n",
        "dataset = datasets.load_iris()\n",
        "features=dataset.data\n",
        "label=dataset.target"
      ],
      "execution_count": 34,
      "outputs": []
    },
    {
      "cell_type": "code",
      "metadata": {
        "id": "BS1u6G6fnN8N"
      },
      "source": [
        "from sklearn.model_selection import train_test_split\n",
        "X_train,X_test,Y_train,Y_test=train_test_split(features,label,test_size=0.5)"
      ],
      "execution_count": 35,
      "outputs": []
    },
    {
      "cell_type": "code",
      "metadata": {
        "id": "fsF-jtSaKdSj",
        "colab": {
          "base_uri": "https://localhost:8080/"
        },
        "outputId": "5526e4fa-a2be-42c3-dc07-b01df11abe30"
      },
      "source": [
        "\n",
        "\n",
        "#LOGISTIC REGRESSION\n",
        "from sklearn.linear_model import LogisticRegression\n",
        "model=LogisticRegression()\n",
        "\n",
        "model.fit(X_train,Y_train)\n",
        "y_ans=model.predict(X_test)\n",
        "\n",
        "model.score(X_test,Y_test)"
      ],
      "execution_count": 36,
      "outputs": [
        {
          "output_type": "execute_result",
          "data": {
            "text/plain": [
              "0.96"
            ]
          },
          "metadata": {
            "tags": []
          },
          "execution_count": 36
        }
      ]
    },
    {
      "cell_type": "code",
      "metadata": {
        "colab": {
          "base_uri": "https://localhost:8080/"
        },
        "id": "IoGuSoX4LrkP",
        "outputId": "dc2b854c-dc1a-4054-d95f-84bdc3e1ad47"
      },
      "source": [
        "#K-NEAREST NEIGHBORS(KNN)\n",
        "from sklearn.neighbors import KNeighborsClassifier\n",
        "model=KNeighborsClassifier()\n",
        "\n",
        "model.fit(X_train,Y_train)\n",
        "y_ans=model.predict(X_test)\n",
        "\n",
        "model.score(X_test,Y_test)"
      ],
      "execution_count": 37,
      "outputs": [
        {
          "output_type": "execute_result",
          "data": {
            "text/plain": [
              "0.9466666666666667"
            ]
          },
          "metadata": {
            "tags": []
          },
          "execution_count": 37
        }
      ]
    },
    {
      "cell_type": "code",
      "metadata": {
        "colab": {
          "base_uri": "https://localhost:8080/"
        },
        "id": "NKgzwCtBLzlX",
        "outputId": "cd378135-09e5-44d6-bd75-90fa6281e33d"
      },
      "source": [
        "#NAIVE BAYES\n",
        "from sklearn.naive_bayes import GaussianNB\n",
        "model=GaussianNB()\n",
        "\n",
        "model.fit(X_train,Y_train)\n",
        "y_ans=model.predict(X_test)\n",
        "\n",
        "model.score(X_test,Y_test)"
      ],
      "execution_count": 38,
      "outputs": [
        {
          "output_type": "execute_result",
          "data": {
            "text/plain": [
              "0.9333333333333333"
            ]
          },
          "metadata": {
            "tags": []
          },
          "execution_count": 38
        }
      ]
    },
    {
      "cell_type": "code",
      "metadata": {
        "colab": {
          "base_uri": "https://localhost:8080/"
        },
        "id": "Cs18P5AytPxm",
        "outputId": "ba36b9ef-818b-426a-d863-e389a5c8a603"
      },
      "source": [
        "#decision tree\n",
        "from sklearn.tree import DecisionTreeClassifier  \n",
        "dtree= DecisionTreeClassifier(class_weight=None, criterion='entropy', max_depth=None,\n",
        "max_features=None, max_leaf_nodes=None,\n",
        "min_impurity_decrease=0.0, min_impurity_split=None,\n",
        "min_samples_leaf=1, min_samples_split=2,\n",
        "min_weight_fraction_leaf=0.0, presort=False,\n",
        "                       random_state=0, splitter='best')\n",
        "model.fit(X_train, Y_train)  \n",
        "y_ans= model.predict(X_test)  \n",
        "model.score(X_test,Y_test)"
      ],
      "execution_count": 39,
      "outputs": [
        {
          "output_type": "execute_result",
          "data": {
            "text/plain": [
              "0.9333333333333333"
            ]
          },
          "metadata": {
            "tags": []
          },
          "execution_count": 39
        }
      ]
    }
  ]
}