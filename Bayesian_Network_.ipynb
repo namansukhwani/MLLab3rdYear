{
  "nbformat": 4,
  "nbformat_minor": 0,
  "metadata": {
    "colab": {
      "name": "Copy of CS2 III year Bayesian Network .ipynb",
      "provenance": [],
      "include_colab_link": true
    },
    "kernelspec": {
      "name": "python3",
      "display_name": "Python 3"
    },
    "language_info": {
      "name": "python"
    }
  },
  "cells": [
    {
      "cell_type": "markdown",
      "metadata": {
        "id": "view-in-github",
        "colab_type": "text"
      },
      "source": [
        "<a href=\"https://colab.research.google.com/github/muskan-patidar/ML-Lab/blob/main/Bayesian_Network_.ipynb\" target=\"_parent\"><img src=\"https://colab.research.google.com/assets/colab-badge.svg\" alt=\"Open In Colab\"/></a>"
      ]
    },
    {
      "cell_type": "code",
      "metadata": {
        "colab": {
          "base_uri": "https://localhost:8080/",
          "height": 441
        },
        "id": "T6HmElMek1Wh",
        "outputId": "0988364a-340f-4a35-b706-d8ceaefde7b2"
      },
      "source": [
        "!pip install pomegranate\n"
      ],
      "execution_count": 1,
      "outputs": [
        {
          "output_type": "stream",
          "text": [
            "Collecting pomegranate\n",
            "\u001b[?25l  Downloading https://files.pythonhosted.org/packages/bd/b9/b64c8722891d9089959b403b8b6a5413c325ed2f6b07f2b2d5246a151551/pomegranate-0.14.5-cp37-cp37m-manylinux2010_x86_64.whl (17.9MB)\n",
            "\u001b[K     |████████████████████████████████| 17.9MB 1.3MB/s \n",
            "\u001b[?25hRequirement already satisfied: networkx>=2.4 in /usr/local/lib/python3.7/dist-packages (from pomegranate) (2.5.1)\n",
            "Requirement already satisfied: scipy>=0.17.0 in /usr/local/lib/python3.7/dist-packages (from pomegranate) (1.4.1)\n",
            "Requirement already satisfied: joblib>=0.9.0b4 in /usr/local/lib/python3.7/dist-packages (from pomegranate) (1.0.1)\n",
            "Collecting numpy>=1.20.0\n",
            "\u001b[?25l  Downloading https://files.pythonhosted.org/packages/a5/42/560d269f604d3e186a57c21a363e77e199358d054884e61b73e405dd217c/numpy-1.20.3-cp37-cp37m-manylinux_2_12_x86_64.manylinux2010_x86_64.whl (15.3MB)\n",
            "\u001b[K     |████████████████████████████████| 15.3MB 223kB/s \n",
            "\u001b[?25hRequirement already satisfied: pyyaml in /usr/local/lib/python3.7/dist-packages (from pomegranate) (3.13)\n",
            "Requirement already satisfied: decorator<5,>=4.3 in /usr/local/lib/python3.7/dist-packages (from networkx>=2.4->pomegranate) (4.4.2)\n",
            "\u001b[31mERROR: tensorflow 2.4.1 has requirement numpy~=1.19.2, but you'll have numpy 1.20.3 which is incompatible.\u001b[0m\n",
            "\u001b[31mERROR: datascience 0.10.6 has requirement folium==0.2.1, but you'll have folium 0.8.3 which is incompatible.\u001b[0m\n",
            "\u001b[31mERROR: albumentations 0.1.12 has requirement imgaug<0.2.7,>=0.2.5, but you'll have imgaug 0.2.9 which is incompatible.\u001b[0m\n",
            "Installing collected packages: numpy, pomegranate\n",
            "  Found existing installation: numpy 1.19.5\n",
            "    Uninstalling numpy-1.19.5:\n",
            "      Successfully uninstalled numpy-1.19.5\n",
            "Successfully installed numpy-1.20.3 pomegranate-0.14.5\n"
          ],
          "name": "stdout"
        },
        {
          "output_type": "display_data",
          "data": {
            "application/vnd.colab-display-data+json": {
              "pip_warning": {
                "packages": [
                  "numpy"
                ]
              }
            }
          },
          "metadata": {
            "tags": []
          }
        }
      ]
    },
    {
      "cell_type": "code",
      "metadata": {
        "id": "2keHXd4dkn3t"
      },
      "source": [
        "#Import required packages\n",
        "import math\n",
        "from pomegranate import *\n",
        " \n",
        "# Initially the door selected by the guest is completely random\n",
        "guest =DiscreteDistribution( { 'A': 1./3, 'B': 1./3, 'C': 1./3 } )\n",
        " \n",
        "# The door containing the prize is also a random process\n",
        "prize =DiscreteDistribution( { 'A': 1./3, 'B': 1./3, 'C': 1./3 } )\n",
        " \n",
        "# The door Monty picks, depends on the choice of the guest and the prize door\n",
        "monty =ConditionalProbabilityTable(\n",
        "[[ 'A', 'A', 'A', 0.0 ],\n",
        "[ 'A', 'A', 'B', 0.5 ],\n",
        "[ 'A', 'A', 'C', 0.5 ],\n",
        "[ 'A', 'B', 'A', 0.0 ],\n",
        "[ 'A', 'B', 'B', 0.0 ],\n",
        "[ 'A', 'B', 'C', 1.0 ],\n",
        "[ 'A', 'C', 'A', 0.0 ],\n",
        "[ 'A', 'C', 'B', 1.0 ],\n",
        "[ 'A', 'C', 'C', 0.0 ],\n",
        "[ 'B', 'A', 'A', 0.0 ],\n",
        "[ 'B', 'A', 'B', 0.0 ],\n",
        "[ 'B', 'A', 'C', 1.0 ],\n",
        "[ 'B', 'B', 'A', 0.5 ],\n",
        "[ 'B', 'B', 'B', 0.0 ],\n",
        "[ 'B', 'B', 'C', 0.5 ],\n",
        "[ 'B', 'C', 'A', 1.0 ],\n",
        "[ 'B', 'C', 'B', 0.0 ],\n",
        "[ 'B', 'C', 'C', 0.0 ],\n",
        "[ 'C', 'A', 'A', 0.0 ],\n",
        "[ 'C', 'A', 'B', 1.0 ],\n",
        "[ 'C', 'A', 'C', 0.0 ],\n",
        "[ 'C', 'B', 'A', 1.0 ],\n",
        "[ 'C', 'B', 'B', 0.0 ],\n",
        "[ 'C', 'B', 'C', 0.0 ],\n",
        "[ 'C', 'C', 'A', 0.5 ],\n",
        "[ 'C', 'C', 'B', 0.5 ],\n",
        "[ 'C', 'C', 'C', 0.0 ]], [guest, prize] )\n",
        " \n",
        "d1 = State( guest, name=\"guest\" )\n",
        "d2 = State( prize, name=\"prize\" )\n",
        "d3 = State( monty, name=\"monty\" )\n",
        " \n",
        "#Building the Bayesian Network\n",
        "network = BayesianNetwork( \"Solving the Monty Hall Problem With Bayesian Networks\" )\n",
        "network.add_states(d1, d2, d3)\n",
        "network.add_edge(d1, d3)\n",
        "network.add_edge(d2, d3)\n",
        "network.bake()"
      ],
      "execution_count": 1,
      "outputs": []
    },
    {
      "cell_type": "code",
      "metadata": {
        "colab": {
          "base_uri": "https://localhost:8080/"
        },
        "id": "BmPoT6zUlM0o",
        "outputId": "d32c7999-623b-4dc0-c32b-698c2eb27a44"
      },
      "source": [
        "beliefs = network.predict_proba({ 'guest' : 'A' })\n",
        "beliefs = map(str, beliefs)\n",
        "print(\"n\".join( \"{}t{}\".format( state.name, belief ) for state, belief in zip( network.states, beliefs ) ))"
      ],
      "execution_count": 2,
      "outputs": [
        {
          "output_type": "stream",
          "text": [
            "guesttAnprizet{\n",
            "    \"class\" : \"Distribution\",\n",
            "    \"dtype\" : \"str\",\n",
            "    \"name\" : \"DiscreteDistribution\",\n",
            "    \"parameters\" : [\n",
            "        {\n",
            "            \"A\" : 0.3333333333333333,\n",
            "            \"B\" : 0.3333333333333333,\n",
            "            \"C\" : 0.3333333333333333\n",
            "        }\n",
            "    ],\n",
            "    \"frozen\" : false\n",
            "}nmontyt{\n",
            "    \"class\" : \"Distribution\",\n",
            "    \"dtype\" : \"str\",\n",
            "    \"name\" : \"DiscreteDistribution\",\n",
            "    \"parameters\" : [\n",
            "        {\n",
            "            \"B\" : 0.49999999999999983,\n",
            "            \"A\" : 0.0,\n",
            "            \"C\" : 0.49999999999999983\n",
            "        }\n",
            "    ],\n",
            "    \"frozen\" : false\n",
            "}\n"
          ],
          "name": "stdout"
        }
      ]
    },
    {
      "cell_type": "code",
      "metadata": {
        "colab": {
          "base_uri": "https://localhost:8080/"
        },
        "id": "LzrzBu7DldFg",
        "outputId": "7544c633-4959-4956-bac6-1f1fce0b0438"
      },
      "source": [
        "beliefs = network.predict_proba({'guest' : 'A', 'monty' : 'B'})\n",
        "print(\"n\".join( \"{}t{}\".format( state.name, str(belief) ) for state, belief in zip( network.states, beliefs )))"
      ],
      "execution_count": 3,
      "outputs": [
        {
          "output_type": "stream",
          "text": [
            "guesttAnprizet{\n",
            "    \"class\" : \"Distribution\",\n",
            "    \"dtype\" : \"str\",\n",
            "    \"name\" : \"DiscreteDistribution\",\n",
            "    \"parameters\" : [\n",
            "        {\n",
            "            \"A\" : 0.3333333333333334,\n",
            "            \"B\" : 0.0,\n",
            "            \"C\" : 0.6666666666666664\n",
            "        }\n",
            "    ],\n",
            "    \"frozen\" : false\n",
            "}nmontytB\n"
          ],
          "name": "stdout"
        }
      ]
    }
  ]
}